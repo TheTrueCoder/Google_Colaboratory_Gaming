{
  "nbformat": 4,
  "nbformat_minor": 0,
  "metadata": {
    "colab": {
      "name": "VNCHostedDesktop+Parsec",
      "provenance": [],
      "collapsed_sections": [],
      "authorship_tag": "ABX9TyOmToga/N/KNyFqyhLjRupq",
      "include_colab_link": true
    },
    "kernelspec": {
      "name": "python3",
      "display_name": "Python 3"
    },
    "accelerator": "GPU"
  },
  "cells": [
    {
      "cell_type": "markdown",
      "metadata": {
        "id": "view-in-github",
        "colab_type": "text"
      },
      "source": [
        "<a href=\"https://colab.research.google.com/github/TheTrueCoder/Google_Colaboratory_Gaming/blob/master/RemoteCombined.ipynb\" target=\"_parent\"><img src=\"https://colab.research.google.com/assets/colab-badge.svg\" alt=\"Open In Colab\"/></a>"
      ]
    },
    {
      "cell_type": "markdown",
      "metadata": {
        "id": "GuyyrCQanmLM",
        "colab_type": "text"
      },
      "source": [
        "Check GPU"
      ]
    },
    {
      "cell_type": "code",
      "metadata": {
        "id": "P8YD5lZSmbRF",
        "colab_type": "code",
        "colab": {}
      },
      "source": [
        "!nvidia-smi"
      ],
      "execution_count": 0,
      "outputs": []
    },
    {
      "cell_type": "markdown",
      "metadata": {
        "id": "R8_XlD0No5Nt",
        "colab_type": "text"
      },
      "source": [
        "#Install latest nvidia drivers"
      ]
    },
    {
      "cell_type": "code",
      "metadata": {
        "id": "mG5fben4pA8m",
        "colab_type": "code",
        "colab": {}
      },
      "source": [
        "!sudo apt-get purge nvidia*\n",
        "!sudo add-apt-repository -y ppa:graphics-drivers\n",
        "!sudo apt-get update"
      ],
      "execution_count": 0,
      "outputs": []
    },
    {
      "cell_type": "code",
      "metadata": {
        "id": "IvVMMLMaqAwv",
        "colab_type": "code",
        "colab": {}
      },
      "source": [
        "!sudo apt-get install nvidia-driver-440"
      ],
      "execution_count": 0,
      "outputs": []
    },
    {
      "cell_type": "code",
      "metadata": {
        "id": "WE39ujUlyZhR",
        "colab_type": "code",
        "colab": {}
      },
      "source": [
        "import os\n",
        "os.kill(os.getpid(), 9)"
      ],
      "execution_count": 0,
      "outputs": []
    },
    {
      "cell_type": "markdown",
      "metadata": {
        "id": "kL2JGF3Ny7s7",
        "colab_type": "text"
      },
      "source": [
        "#Setup VNC"
      ]
    },
    {
      "cell_type": "code",
      "metadata": {
        "id": "-xUgxVYL9EmC",
        "colab_type": "code",
        "colab": {}
      },
      "source": [
        "!pip install git+https://github.com/demotomohiro/remocolab.git\n",
        "import remocolab\n",
        "remocolab.setupVNC(ngrok_region = \"au\")"
      ],
      "execution_count": 0,
      "outputs": []
    },
    {
      "cell_type": "markdown",
      "metadata": {
        "id": "TVnnyumvMx2N",
        "colab_type": "text"
      },
      "source": [
        ""
      ]
    },
    {
      "cell_type": "code",
      "metadata": {
        "id": "iW7nKTSYfZYv",
        "colab_type": "code",
        "colab": {}
      },
      "source": [
        "!DISPLAY=:1\n",
        "!export DISPLAY "
      ],
      "execution_count": 0,
      "outputs": []
    },
    {
      "cell_type": "code",
      "metadata": {
        "id": "rJJbA98O34kF",
        "colab_type": "code",
        "colab": {}
      },
      "source": [
        "!wget https://builds.parsecgaming.com/package/parsec-linux.deb\n",
        "!sudo dpkg -i parsec-linux.deb"
      ],
      "execution_count": 0,
      "outputs": []
    },
    {
      "cell_type": "code",
      "metadata": {
        "id": "miVZgfQrc1cF",
        "colab_type": "code",
        "colab": {}
      },
      "source": [
        "!sudo /usr/bin/parsecd"
      ],
      "execution_count": 0,
      "outputs": []
    },
    {
      "cell_type": "code",
      "metadata": {
        "id": "PFxA2TJ9g3gB",
        "colab_type": "code",
        "colab": {}
      },
      "source": [
        "!mkdir Game\n",
        "%cd Game\n",
        "!wget https://w3g3a5v6.ssl.hwcdn.net/upload2/game/241817/1382650?GoogleAccessId=uploader@moonscript2.iam.gserviceaccount.com&Expires=1586126627&Signature=bJ%2BvHJiS3J03OXXBPL6DNkbd1URPjKH4vm1c1BZg4ygMsbY8lRfz6VOeZwr58zNYOVp6mZzrIISe%2Bpim5xCiYGNHjWg3TUDnaWIvCvj5Dzd9rg%2F71B66WQFiWHVYw7leMHTE28KSK1xXfcqRYiRIjGIqCu00Ls%2BkxOgGa1ZGKs8ZV1PK7aKzJl0NYThRlRdbJc9KwTkH1f17eShXqPrLC9ogawE2MLRGzToOQKB6Z7R38JL2hq55KYjdiZ4YhM%2BSEW5z5Szyo5GgY1RX%2FRPEzN62D8hpnR7UyNhJqPYBodVVfTAaOy%2BxsFWW5%2Fobx64hGMmO9M4OaqAA%2BeP9saWeKw==&hwexp=1586126887&hwsig=77c4c6a7cd48b7bb66d8899da363a18d"
      ],
      "execution_count": 0,
      "outputs": []
    },
    {
      "cell_type": "code",
      "metadata": {
        "id": "7lj8d0gDGllv",
        "colab_type": "code",
        "colab": {}
      },
      "source": [
        "#Unigine valley\n",
        "%cd /content/\n",
        "!mkdir ug\n",
        "%cd ug\n",
        "!wget https://assets.unigine.com/d/Unigine_Valley-1.0.run\n",
        "!chmod +x Unigine_Valley-1.0.run\n",
        "!./Unigine_Valley-1.0.run\n",
        "%cd Unigine_Valley-1.0\n",
        "#!DISPLAY=:1 vglrun ./valley"
      ],
      "execution_count": 0,
      "outputs": []
    },
    {
      "cell_type": "code",
      "metadata": {
        "id": "YK2BY0k8VT0P",
        "colab_type": "code",
        "colab": {}
      },
      "source": [
        "#Blender Benchmark\n",
        "!wget https://opendata.blender.org/cdn/BlenderBenchmark2.0/launcher/benchmark-launcher-cli-2.0.5-linux.tar.gz\n",
        "!tar -xzf benchmark-launcher-cli-2.0.5-linux.tar.gz"
      ],
      "execution_count": 0,
      "outputs": []
    },
    {
      "cell_type": "code",
      "metadata": {
        "id": "bSM5W8ZZ4Yf_",
        "colab_type": "code",
        "colab": {}
      },
      "source": [
        "#To prevent instance shutting down, you can run this\n",
        "import time\n",
        "Iter=0\n",
        "while (1):\n",
        "  print(\"Stillhere (\",Iter,\")\")\n",
        "  Iter += 1\n",
        "  time.sleep(10)"
      ],
      "execution_count": 0,
      "outputs": []
    }
  ]
}